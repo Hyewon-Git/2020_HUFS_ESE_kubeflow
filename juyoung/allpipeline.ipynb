import kfp
import kfp.dsl as dsl
import kfp.onprem as onprem

def echo_op(text):
    return dsl.ContainerOp(
        name='echo',
        image='library/bash:4.4.23',
        command=['sh', '-c'],
        arguments=['echo "$0"', text],
    )

@dsl.pipeline(
    name='FMnistPipeline',
    description='mnist '
)

def fmnist_pipeline(learning_rate, dropout_rate,model_path, model_version, model_version2, model_version3, model_version4, model_version5, model_version6, model_version7, model_version8):
    
    exit_task = echo_op("Done!")
    
    with dsl.ExitHandler(exit_task): 
        
        #vol component
        #fmnist_pvc = dsl.PipelineVolume(pvc="tfjob-data-volume", name="tfjob-data-volume")
        fmnist_vop = dsl.VolumeOp(
            name="fmnist-volume1",
            resource_name="fmnist-pvc",
            modes=dsl.VOLUME_MODE_RWO,
            size="1Gi"
        )
        
        #base component
        mnist = dsl.ContainerOp(
            name='Train',
            image='khw2126/mnist-simple:B359DD41',
            command=['python', '/app/Train.py'],
            arguments=[
                "--learning_rate", learning_rate,
                "--dropout_rate", dropout_rate,
                "--model_path", model_path,
                "--model_version", model_version
            ],
            pvolumes={"/result": fmnist_vop.volume}
        )
        ################################# basic compression file ###########################
        #prun com
        prun = dsl.ContainerOp(
            name='prun',
            image='khw2126/prun:0.1.7', #:0.0.12
            command=['python', '/app/pruning_code.py'],
            arguments=[
                "--model_path", model_path,
                "--model_version", model_version,
                "--model_version2", model_version2,
            ],
            output_artifact_paths={'mlpipeline-metrics': '/mlpipeline-metrics.json'},
            pvolumes={"/result": mnist.pvolume}
        )
        
        #quan aware com
        quan_aware = dsl.ContainerOp(
            name='quan_aware',
            image='khw2126/quan:0.0.16', #0.0.9
            command=['python', '/app/quantization_aware_code.py'],
            arguments=[
                "--model_path", model_path,
                "--model_version", model_version,
                "--model_version3", model_version3,
            ],
            output_artifact_paths={'mlpipeline-metrics': '/mlpipeline-metrics.json'},
            pvolumes={"/result": mnist.pvolume}
        )
        
        #dynamic quan
        dynamic_quan = dsl.ContainerOp(
            name='dynamic_quan',
            image='khw2126/dynamic_quan:0.0.4',
            command=['python', '/app/dynamic_quant.py'],
            arguments=[
                "--model_path", model_path,
                "--model_version", model_version,
                "--model_version4", model_version4,
            ],
            output_artifact_paths={'mlpipeline-metrics': '/mlpipeline-metrics.json'},
            pvolumes={"/result": mnist.pvolume}
        )
        
        #integer_quan
        integer_quant = dsl.ContainerOp(
            name='integer_quant',
            image='khw2126/integer_quant:0.0.4',
            command=['python', '/app/integer_quant.py'],
            arguments=[
                "--model_path", model_path,
                "--model_version", model_version,
                "--model_version5", model_version2,
            ],
            output_artifact_paths={'mlpipeline-metrics': '/mlpipeline-metrics.json'},
            pvolumes={"/result": mnist.pvolume}
        )
        
        #float16_quan
        float16_quant = dsl.ContainerOp(
            name='float16_quant',
            image='khw2126/float16_quant:0.0.2',
            command=['python', '/app/float16_quant.py'],
            arguments=[
                "--model_path", model_path,
                "--model_version", model_version,
                "--model_version6", model_version6,
            ],
            output_artifact_paths={'mlpipeline-metrics': '/mlpipeline-metrics.json'},
            pvolumes={"/result": mnist.pvolume}
        )
        ####################################################################################
        
        ######################### combination code ##########################################
        #prun tflite com
        prun_tflite = dsl.ContainerOp(
            name='prun_tflite',
            image='khw2126/prun_tflite:0.0.2',
            command=['python', '/app/pruning_tflite.py'],
            arguments=[
                "--model_path", model_path,
                "--model_version2", model_version2,
                "--model_version7", model_version7,
            ],
            output_artifact_paths={'mlpipeline-metrics': '/mlpipeline-metrics.json'},
            pvolumes={"/result": prun.pvolume}
        )
        
        #prun and quan-aware com
        prun_quan_aware = dsl.ContainerOp(
            name='prun_quan_aware',
            image='khw2126/quan:0.0.9',
            command=['python', '/app/quantization_aware_code.py'],
            arguments=[
                "--model_path", model_path,
                "--model_version", model_version2,
                "--model_version3", model_version3,
            ],
            output_artifact_paths={'mlpipeline-metrics': '/mlpipeline-metrics.json'},
            pvolumes={"/result": prun.pvolume}
        )
        
        #prun and dynamic quan com
        prun_dynamic_quan = dsl.ContainerOp(
            name='prun_dynamic_quan',
            image='khw2126/dynamic_quan:0.0.4',
            command=['python', '/app/dynamic_quant.py'],
            arguments=[
                "--model_path", model_path,
                "--model_version", model_version2,
                "--model_version4", model_version4,
            ],
            output_artifact_paths={'mlpipeline-metrics': '/mlpipeline-metrics.json'},
            pvolumes={"/result": prun.pvolume}
        )
        
        #quant_aware_dynamic quan com
        quant_aware_dynamic_quan = dsl.ContainerOp(
            name='quant_aware_dynamic_quan',
            image='khw2126/quant_aware_tflite:0.0.5',
            command=['python', '/app/quantization_aware_tflite.py'],
            arguments=[
                "--model_path", model_path,
                "--model_version", model_version,
                "--model_version3", model_version3,
                "--model_version8", model_version8,
            ],
            output_artifact_paths={'mlpipeline-metrics': '/mlpipeline-metrics.json'},
            pvolumes={"/result": mnist.pvolume}
        )
        
        #prun and integer_quan
        prun_integer_quant = dsl.ContainerOp(
            name='prun_integer_quant',
            image='khw2126/integer_quant:0.0.4',
            command=['python', '/app/integer_quant.py'],
            arguments=[
                "--model_path", model_path,
                "--model_version", model_version2,
                "--model_version5", model_version5,
            ],
            output_artifact_paths={'mlpipeline-metrics': '/mlpipeline-metrics.json'},
            pvolumes={"/result": prun.pvolume}
        )
        
        #prun and float16_quan
        prun_float16_quant = dsl.ContainerOp(
            name='prun_float16_quant',
            image='khw2126/float16_quant:0.0.2',
            command=['python', '/app/float16_quant.py'],
            arguments=[
                "--model_path", model_path,
                "--model_version", model_version2,
                "--model_version6", model_version6,
            ],
            output_artifact_paths={'mlpipeline-metrics': '/mlpipeline-metrics.json'},
            pvolumes={"/result": prun.pvolume}
        )
        
        #prun and  quant_aware and dynamic_quan com
        prun_quant_aware_dynamic_quan = dsl.ContainerOp(
            name='prun_quant_aware_dynamic_quan',
            image='khw2126/quant_aware_tflite:0.0.5',
            command=['python', '/app/quantization_aware_tflite.py'],
            arguments=[
                "--model_path", model_path,
                "--model_version", model_version2,
                "--model_version3", model_version3,
                "--model_version8", model_version8,
            ],
            output_artifact_paths={'mlpipeline-metrics': '/mlpipeline-metrics.json'},
            pvolumes={"/result": quant_aware_dynamic_quan.pvolume}
        )
        ####################################################################################
        
        #result com
        result = dsl.ContainerOp(
            name='list_list',
            image='library/bash:4.4.23',
            command=['ls', '-R', '/result'],
            #pvolumes={"/result": prun.pvolume}
            pvolumes={"/result": mnist.pvolume}#prun.pvolume
        )
        
        ####################################################################################
        #order
        prun.after(mnist)
        quan_aware.after(mnist)
        dynamic_quan.after(mnist)
        integer_quant.after(mnist)
        float16_quant.after(mnist)
        
        prun_tflite.after(prun)
        prun_quan_aware.after(prun)
        prun_dynamic_quan.after(prun)
        quant_aware_dynamic_quan.after(quan_aware)
        prun_integer_quant.after(prun)
        prun_float16_quant.after(prun)
        prun_quant_aware_dynamic_quan.after(prun)
        
        result.after(prun)
        result.after(quan_aware)
        result.after(dynamic_quan)
        result.after(integer_quant)
        result.after(float16_quant)
        
        result.after(prun_tflite)
        result.after(prun_quan_aware)
        result.after(prun_dynamic_quan)
        result.after(quant_aware_dynamic_quan)
        result.after(prun_integer_quant)
        result.after(prun_float16_quant)
        result.after(prun_quant_aware_dynamic_quan)
        
    
if __name__ == '__main__':
    #argument !![model_path, model_version]
#model_version: name
    arguments = {'learning_rate': '0.001397', 
                 'dropout_rate': '0.18',
                 'model_path':'/result', #'/result/saved_model'
                 'model_version': '/base_model.h5',#/Base_model.h5
                 'model_version2': '/prun_model.h5',
                 'model_version3': '/quan_aware_model.h5',
                 'model_version4': '/dynamic_post_quan_tflite_file.tflite',
                 'model_version5': '/integer_post_quan_tflite_file.tflite',
                 'model_version6': '/fp16_post_quan_tflite_file.tflite',
                 'model_version7': '/weightpruning_tflite_file.tflite',
                 'model_version8': '/qaware_dynamic_post_quan_tflite_file.tflite'
                }
    kfp.Client().create_run_from_pipeline_func(pipeline_func=fmnist_pipeline, arguments=arguments)
