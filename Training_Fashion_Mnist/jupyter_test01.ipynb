p.236~
3.1.2 fashion-mnist run
