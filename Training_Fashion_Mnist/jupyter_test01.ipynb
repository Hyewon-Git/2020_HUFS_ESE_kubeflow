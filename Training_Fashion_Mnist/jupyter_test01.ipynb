
##

from __future__ import absolute_import, division, print_function, unicode_literals, unicode_literals
import matplotlib.pyplot as plt

import tempfile
import os

import tensorflow as tf
import numpy as np

from tensorflow import keras

import tensorflow_model_optimization as tfmot

print(tf.__version__) # 버전은 2.0.0이상
